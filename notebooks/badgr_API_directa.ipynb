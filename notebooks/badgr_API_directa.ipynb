{
 "cells": [
  {
   "cell_type": "code",
   "execution_count": 4,
   "metadata": {},
   "outputs": [],
   "source": [
    "from getpass import getpass\n",
    "import requests\n",
    "import json\n",
    "from badgr_lite.models import BadgrLite\n",
    "\n",
    "from config import USERNAME"
   ]
  },
  {
   "cell_type": "markdown",
   "metadata": {},
   "source": [
    "# Get Tokens"
   ]
  },
  {
   "cell_type": "code",
   "execution_count": 43,
   "metadata": {},
   "outputs": [],
   "source": [
    "YOURPASSWORD = # Introduce contraseña\n",
    "auth_url = f'https://api.badgr.io/o/token'\n",
    "auth_header = requests.post(url=auth_url, data={'username':USERNAME, 'password':YOURPASSWORD})\n",
    "auth_header = auth_header.json()\n",
    "token = auth_header['access_token']"
   ]
  },
  {
   "cell_type": "markdown",
   "metadata": {},
   "source": [
    "# Get Issuers"
   ]
  },
  {
   "cell_type": "code",
   "execution_count": 60,
   "metadata": {},
   "outputs": [
    {
     "name": "stdout",
     "output_type": "stream",
     "text": [
      "200\n",
      "('entityType', 'Issuer')\n",
      "('entityId', '2Nb32h9pSuqEH9io4l3Ghw')\n",
      "('openBadgeId', 'https://api.badgr.io/public/issuers/2Nb32h9pSuqEH9io4l3Ghw')\n",
      "('createdAt', '2019-10-26T15:00:24Z')\n",
      "('createdBy', 'vUDA1-tFR3WKceYAdHMzjQ')\n",
      "('name', 'Data Science - The Bridge School')\n",
      "('image', 'https://api.badgr.io/public/issuers/2Nb32h9pSuqEH9io4l3Ghw/image')\n",
      "('email', 'admin@thebridgeschool.es')\n",
      "('description', 'Data Science Bootcamp')\n",
      "('url', 'https://www.thebridge.tech/bootcamps/bootcamp-data-science')\n",
      "('staff', [{'userProfile': {'entityType': 'BadgeUser', 'entityId': 'uRZhfKDITdqB4nDEhdN9LQ', 'firstName': 'Diego', 'lastName': 'Díaz', 'emails': [{'email': 'diego@thebridgeschool.es', 'verified': True, 'primary': True, 'caseVariants': []}], 'url': [], 'telephone': [], 'badgrDomain': None}, 'user': 'uRZhfKDITdqB4nDEhdN9LQ', 'role': 'owner'}, {'userProfile': {'entityType': 'BadgeUser', 'entityId': 'NEiTrUHPTm2pm4B9ngWwqQ', 'firstName': 'Carlos', 'lastName': 'Díaz Girol', 'emails': [{'email': 'carlos@thebridgeschool.es', 'verified': True, 'primary': True, 'caseVariants': []}], 'url': [], 'telephone': [], 'badgrDomain': None}, 'user': 'NEiTrUHPTm2pm4B9ngWwqQ', 'role': 'owner'}, {'userProfile': {'entityType': 'BadgeUser', 'entityId': 'vUDA1-tFR3WKceYAdHMzjQ', 'firstName': 'Admin', 'lastName': 'The Bridge', 'emails': [{'email': 'admin@thebridgeschool.es', 'verified': True, 'primary': True, 'caseVariants': []}], 'url': [], 'telephone': [], 'badgrDomain': 'badgr.com'}, 'user': 'vUDA1-tFR3WKceYAdHMzjQ', 'role': 'owner'}, {'userProfile': {'entityType': 'BadgeUser', 'entityId': 'r28jI1tUSBi1yuWYd20kMg', 'firstName': 'Ander', 'lastName': 'Arana', 'emails': [{'email': 'ander@thebridgeschool.es', 'verified': True, 'primary': True, 'caseVariants': []}], 'url': [], 'telephone': [], 'badgrDomain': None}, 'user': 'r28jI1tUSBi1yuWYd20kMg', 'role': 'owner'}, {'userProfile': {'entityType': 'BadgeUser', 'entityId': 'wbO5qlt2QvCY3HRrCjqTsA', 'firstName': 'Rafael', 'lastName': 'Zambrano', 'emails': [{'email': 'rafael@thebridgeschool.es', 'verified': True, 'primary': True, 'caseVariants': []}], 'url': [], 'telephone': [], 'badgrDomain': None}, 'user': 'wbO5qlt2QvCY3HRrCjqTsA', 'role': 'owner'}, {'userProfile': {'entityType': 'BadgeUser', 'entityId': 'jEnFS-M7TkmB7TbNT6YPIg', 'firstName': 'Clara', 'lastName': 'Fernández', 'emails': [{'email': 'clara.fernandez@thebridgeschool.es', 'verified': True, 'primary': True, 'caseVariants': []}], 'url': [], 'telephone': [], 'badgrDomain': None}, 'user': 'jEnFS-M7TkmB7TbNT6YPIg', 'role': 'owner'}, {'userProfile': {'entityType': 'BadgeUser', 'entityId': 'G6e1n1QuTNulLY4upfX_AQ', 'firstName': 'Clara', 'lastName': 'Fernández', 'emails': [{'email': 'clara.fernandez@thebridge.tech', 'verified': True, 'primary': True, 'caseVariants': []}], 'url': [], 'telephone': [], 'badgrDomain': 'badgr.com'}, 'user': 'G6e1n1QuTNulLY4upfX_AQ', 'role': 'owner'}, {'userProfile': {'entityType': 'BadgeUser', 'entityId': 'CmFcQWq1Q_mO49BtdzIXtg', 'firstName': 'Leonardo', 'lastName': 'Sánchez Soler', 'emails': [{'email': 'leonardo@thebridgeschool.es', 'verified': True, 'primary': True, 'caseVariants': []}], 'url': [], 'telephone': [], 'badgrDomain': 'badgr.com'}, 'user': 'CmFcQWq1Q_mO49BtdzIXtg', 'role': 'staff'}, {'userProfile': {'entityType': 'BadgeUser', 'entityId': 'fQlpUN7xTDi_OidnZFkVoA', 'firstName': 'Cristina', 'lastName': 'Martínez García', 'emails': [{'email': 'cristina.martinez@thebridgeschool.es', 'verified': True, 'primary': True, 'caseVariants': []}], 'url': [], 'telephone': [], 'badgrDomain': None}, 'user': 'fQlpUN7xTDi_OidnZFkVoA', 'role': 'staff'}, {'userProfile': {'entityType': 'BadgeUser', 'entityId': '6bRcQu0uRBq8LP8ZYDJZ7Q', 'firstName': 'Alberto', 'lastName': 'Romero', 'emails': [{'email': 'alberto@thebridgeschool.es', 'verified': True, 'primary': True, 'caseVariants': []}], 'url': [], 'telephone': [], 'badgrDomain': None}, 'user': '6bRcQu0uRBq8LP8ZYDJZ7Q', 'role': 'owner'}, {'userProfile': {'entityType': 'BadgeUser', 'entityId': 'ZhQwbEdeRNyF15lWIvQC8A', 'firstName': 'Miguel', 'lastName': 'Nievas', 'emails': [{'email': 'miguel.nievas@thebridgeschool.es', 'verified': True, 'primary': True, 'caseVariants': []}], 'url': [], 'telephone': [], 'badgrDomain': None}, 'user': 'ZhQwbEdeRNyF15lWIvQC8A', 'role': 'owner'}, {'userProfile': {'entityType': 'BadgeUser', 'entityId': '_9e8T2_fSSmMipyGh78Llw', 'firstName': 'Julia', 'lastName': 'Martínez', 'emails': [{'email': 'julia@thebridgeschool.es', 'verified': True, 'primary': True, 'caseVariants': []}], 'url': [], 'telephone': [], 'badgrDomain': None}, 'user': '_9e8T2_fSSmMipyGh78Llw', 'role': 'owner'}, {'userProfile': {'entityType': 'BadgeUser', 'entityId': 'UIb6HtmaTT2oOLwYZWx8YQ', 'firstName': 'David', 'lastName': 'Pastor Calle', 'emails': [{'email': 'david.pastor@thebridgeschool.es', 'verified': True, 'primary': True, 'caseVariants': []}], 'url': [], 'telephone': [], 'badgrDomain': None}, 'user': 'UIb6HtmaTT2oOLwYZWx8YQ', 'role': 'staff'}, {'userProfile': {'entityType': 'BadgeUser', 'entityId': 'WkXLl4-zRuC6AA4ujQh6Tg', 'firstName': 'Juan', 'lastName': 'Maniglia', 'emails': [{'email': 'juan.maniglia@thebridgeschool.es', 'verified': True, 'primary': True, 'caseVariants': []}], 'url': [], 'telephone': [], 'badgrDomain': None}, 'user': 'WkXLl4-zRuC6AA4ujQh6Tg', 'role': 'staff'}, {'userProfile': {'entityType': 'BadgeUser', 'entityId': '6vaYdWXjTcqNE8CDk1DH0Q', 'firstName': 'Marta', 'lastName': 'Gómez Jiménez', 'emails': [{'email': 'marta.gomez@thebridgeschool.es', 'verified': True, 'primary': True, 'caseVariants': []}], 'url': [], 'telephone': [], 'badgrDomain': None}, 'user': '6vaYdWXjTcqNE8CDk1DH0Q', 'role': 'staff'}, {'userProfile': {'entityType': 'BadgeUser', 'entityId': 'l7HA2ciPSm6-iwI8dl4MFA', 'firstName': 'Alejandro', 'lastName': 'Medina', 'emails': [{'email': 'alejandro.medina@thebridgeschool.es', 'verified': True, 'primary': True, 'caseVariants': []}], 'url': [], 'telephone': [], 'badgrDomain': None}, 'user': 'l7HA2ciPSm6-iwI8dl4MFA', 'role': 'staff'}, {'userProfile': {'entityType': 'BadgeUser', 'entityId': 'LRLhV2d6TlWMNlf3vRfipQ', 'firstName': 'Noya', 'lastName': 'Fernández del Cotero', 'emails': [{'email': 'noya@thebridgeschool.es', 'verified': True, 'primary': True, 'caseVariants': []}], 'url': [], 'telephone': [], 'badgrDomain': 'badgr.com'}, 'user': 'LRLhV2d6TlWMNlf3vRfipQ', 'role': 'owner'}, {'userProfile': {'entityType': 'BadgeUser', 'entityId': 'ExRhtRsHSu61zw9SHnJy5A', 'firstName': 'Alberto', 'lastName': 'Becerra Tomé', 'emails': [{'email': 'alberto.becerra@thebridgeschool.es', 'verified': True, 'primary': True, 'caseVariants': []}], 'url': [], 'telephone': [], 'badgrDomain': None}, 'user': 'ExRhtRsHSu61zw9SHnJy5A', 'role': 'editor'}, {'userProfile': {'entityType': 'BadgeUser', 'entityId': 'fqKgY39nSROwPEHVz0mJig', 'firstName': 'José María', 'lastName': 'Costa Fernández', 'emails': [{'email': 'josemaria@thebridgeschool.es', 'verified': True, 'primary': True, 'caseVariants': []}], 'url': [], 'telephone': [], 'badgrDomain': 'badgr.com'}, 'user': 'fqKgY39nSROwPEHVz0mJig', 'role': 'editor'}, {'userProfile': {'entityType': 'BadgeUser', 'entityId': 's4zhQaokQlGf_d38MZLbXw', 'firstName': 'Jose Luis', 'lastName': 'Gomez Ortega', 'emails': [{'email': 'joseluis.gomez@thebridgeschool.es', 'verified': True, 'primary': True, 'caseVariants': []}], 'url': [], 'telephone': [], 'badgrDomain': None}, 'user': 's4zhQaokQlGf_d38MZLbXw', 'role': 'editor'}, {'userProfile': {'entityType': 'BadgeUser', 'entityId': 's2FkAETPT2Ga3SD_GLf16g', 'firstName': 'Gustavo', 'lastName': 'Martín Vela', 'emails': [{'email': 'gustavo.martin@thebridgeschool.es', 'verified': True, 'primary': True, 'caseVariants': []}], 'url': [], 'telephone': [], 'badgrDomain': 'badgr.com'}, 'user': 's2FkAETPT2Ga3SD_GLf16g', 'role': 'editor'}, {'userProfile': {'entityType': 'BadgeUser', 'entityId': 'xwGY7ELNSUOwTxZAvowwQg', 'firstName': 'Rodrigo', 'lastName': 'Oliver', 'emails': [{'email': 'rodrigo.oliver@thebridgeschool.es', 'verified': True, 'primary': True, 'caseVariants': []}], 'url': [], 'telephone': [], 'badgrDomain': None}, 'user': 'xwGY7ELNSUOwTxZAvowwQg', 'role': 'editor'}, {'userProfile': {'entityType': 'BadgeUser', 'entityId': 'dsQdewGTQ_KWFk2kO5VClA', 'firstName': 'Rafael', 'lastName': 'Quintero Rivero', 'emails': [{'email': 'rafael.quintero@thebridgeschool.es', 'verified': True, 'primary': True, 'caseVariants': []}], 'url': [], 'telephone': [], 'badgrDomain': 'badgr.com'}, 'user': 'dsQdewGTQ_KWFk2kO5VClA', 'role': 'editor'}])\n",
      "('extensions', {})\n",
      "('badgrDomain', 'badgr.com')\n"
     ]
    }
   ],
   "source": [
    "\n",
    "entity_id = '2Nb32h9pSuqEH9io4l3Ghw'\n",
    "url = 'https://badgr.com'\n",
    "ep = f'/v2/issuers'\n",
    "headers = {}\n",
    "headers[\"Authorization\"] = f\"Bearer {token}\"\n",
    "req = requests.get(url+ep, headers=headers)\n",
    "\n",
    "print(req.status_code)\n",
    "# print(req.json())\n",
    "issuers = req.json()['result'][0]\n",
    "for res in issuers.items():\n",
    "    print(res)"
   ]
  },
  {
   "cell_type": "code",
   "execution_count": 64,
   "metadata": {},
   "outputs": [
    {
     "name": "stdout",
     "output_type": "stream",
     "text": [
      "Diego Díaz\n",
      "Carlos Díaz Girol\n",
      "Admin The Bridge\n",
      "Ander Arana\n",
      "Rafael Zambrano\n",
      "Clara Fernández\n",
      "Clara Fernández\n",
      "Leonardo Sánchez Soler\n",
      "Cristina Martínez García\n",
      "Alberto Romero\n",
      "Miguel Nievas\n",
      "Julia Martínez\n",
      "David Pastor Calle\n",
      "Juan Maniglia\n",
      "Marta Gómez Jiménez\n",
      "Alejandro Medina\n",
      "Noya Fernández del Cotero\n",
      "Alberto Becerra Tomé\n",
      "José María Costa Fernández\n",
      "Jose Luis Gomez Ortega\n",
      "Gustavo Martín Vela\n",
      "Rodrigo Oliver\n",
      "Rafael Quintero Rivero\n"
     ]
    }
   ],
   "source": [
    "for user in issuers['staff']:\n",
    "    print(user['userProfile']['firstName'] + ' ' + user['userProfile']['lastName'])"
   ]
  },
  {
   "cell_type": "markdown",
   "metadata": {},
   "source": [
    "# Get Badges"
   ]
  },
  {
   "cell_type": "code",
   "execution_count": 76,
   "metadata": {},
   "outputs": [
    {
     "name": "stdout",
     "output_type": "stream",
     "text": [
      "200\n",
      "{'entityType': 'BadgeClass', 'entityId': 'c0qFwLCiQSKqdB4wH4RO1Q', 'openBadgeId': 'https://api.badgr.io/public/badges/c0qFwLCiQSKqdB4wH4RO1Q', 'createdAt': '2019-11-10T21:26:14Z', 'createdBy': 'uRZhfKDITdqB4nDEhdN9LQ', 'issuer': '2Nb32h9pSuqEH9io4l3Ghw', 'issuerOpenBadgeId': 'https://api.badgr.io/public/issuers/2Nb32h9pSuqEH9io4l3Ghw', 'name': 'Deep Learning', 'image': 'https://api.badgr.io/public/badges/c0qFwLCiQSKqdB4wH4RO1Q/image', 'description': 'Conocimientos sobre redes neuronales y técnicas de deep learning. Manejo de Keras, y resolución de problemas básicos.', 'achievementType': None, 'criteriaUrl': None, 'criteriaNarrative': 'Lo asigna el profesor y forma parte del badge de Machine Learning Engineer', 'alignments': [], 'tags': [], 'expires': {'amount': None, 'duration': None}, 'extensions': {}}\n",
      "\n",
      "\n",
      "\n",
      "{'entityType': 'BadgeClass', 'entityId': 'RHcPJ9WdTCu4sxfe3nBOrQ', 'openBadgeId': 'https://api.badgr.io/public/badges/RHcPJ9WdTCu4sxfe3nBOrQ', 'createdAt': '2019-11-10T21:29:08Z', 'createdBy': 'uRZhfKDITdqB4nDEhdN9LQ', 'issuer': '2Nb32h9pSuqEH9io4l3Ghw', 'issuerOpenBadgeId': 'https://api.badgr.io/public/issuers/2Nb32h9pSuqEH9io4l3Ghw', 'name': 'Machine Learning', 'image': 'https://api.badgr.io/public/badges/RHcPJ9WdTCu4sxfe3nBOrQ/image', 'description': 'Técnicas de Machine Learning básicas. Uso de sk-learn, y resolución de problemas básicos.', 'achievementType': None, 'criteriaUrl': None, 'criteriaNarrative': 'Lo asigna el profesor, y forma parte del badge de ML Engineer', 'alignments': [], 'tags': [], 'expires': {'amount': None, 'duration': None}, 'extensions': {}}\n",
      "\n",
      "\n",
      "\n",
      "{'entityType': 'BadgeClass', 'entityId': 'UWJ-e6k0RJOEsTDQATreHA', 'openBadgeId': 'https://api.badgr.io/public/badges/UWJ-e6k0RJOEsTDQATreHA', 'createdAt': '2019-11-10T21:33:02Z', 'createdBy': 'uRZhfKDITdqB4nDEhdN9LQ', 'issuer': '2Nb32h9pSuqEH9io4l3Ghw', 'issuerOpenBadgeId': 'https://api.badgr.io/public/issuers/2Nb32h9pSuqEH9io4l3Ghw', 'name': 'Machine Learning Engineer', 'image': 'https://api.badgr.io/public/badges/UWJ-e6k0RJOEsTDQATreHA/image', 'description': 'Conocimientos de algoritmos de Machine Learning tradicionales y Deep Learning.', 'achievementType': None, 'criteriaUrl': None, 'criteriaNarrative': 'Lo asigna el profesor cuando se obtienen los badges de Machine Learning y Deep Learning', 'alignments': [], 'tags': [], 'expires': {'amount': None, 'duration': None}, 'extensions': {}}\n",
      "\n",
      "\n",
      "\n",
      "{'entityType': 'BadgeClass', 'entityId': 'kB0AeUDQTpaVOEduEJpuyQ', 'openBadgeId': 'https://api.badgr.io/public/badges/kB0AeUDQTpaVOEduEJpuyQ', 'createdAt': '2019-11-10T21:56:57Z', 'createdBy': 'uRZhfKDITdqB4nDEhdN9LQ', 'issuer': '2Nb32h9pSuqEH9io4l3Ghw', 'issuerOpenBadgeId': 'https://api.badgr.io/public/issuers/2Nb32h9pSuqEH9io4l3Ghw', 'name': 'Maths for Data Science', 'image': 'https://api.badgr.io/public/badges/kB0AeUDQTpaVOEduEJpuyQ/image', 'description': 'Fundamentos mátemáticos para entender los algoritmos y aplicaciones de Data Science. Comprenden principios básicos de probabilidad, estadística y álgebra básico.', 'achievementType': None, 'criteriaUrl': None, 'criteriaNarrative': 'Lo asigna el profesor y es uno de los basges que se obtiene en el precurso del Bootcamp', 'alignments': [], 'tags': [], 'expires': {'amount': None, 'duration': None}, 'extensions': {}}\n",
      "\n",
      "\n",
      "\n",
      "{'entityType': 'BadgeClass', 'entityId': 'KjztgMFJQxubPvPmIsRdsQ', 'openBadgeId': 'https://api.badgr.io/public/badges/KjztgMFJQxubPvPmIsRdsQ', 'createdAt': '2019-11-10T21:58:50Z', 'createdBy': 'uRZhfKDITdqB4nDEhdN9LQ', 'issuer': '2Nb32h9pSuqEH9io4l3Ghw', 'issuerOpenBadgeId': 'https://api.badgr.io/public/issuers/2Nb32h9pSuqEH9io4l3Ghw', 'name': 'Python Fundamentals', 'image': 'https://api.badgr.io/public/badges/KjztgMFJQxubPvPmIsRdsQ/image', 'description': 'Fundamentos de Python para Data Science. El alumno ha demostrado conocimientos de programación python y acceso a datos para abordar problemas de Data Science', 'achievementType': None, 'criteriaUrl': None, 'criteriaNarrative': 'Lo asigna el profesor', 'alignments': [], 'tags': [], 'expires': {'amount': None, 'duration': None}, 'extensions': {}}\n",
      "\n",
      "\n",
      "\n",
      "{'entityType': 'BadgeClass', 'entityId': 'OmLW3w_WQTiL7lFZk5eMhg', 'openBadgeId': 'https://api.badgr.io/public/badges/OmLW3w_WQTiL7lFZk5eMhg', 'createdAt': '2019-11-10T22:01:30Z', 'createdBy': 'uRZhfKDITdqB4nDEhdN9LQ', 'issuer': '2Nb32h9pSuqEH9io4l3Ghw', 'issuerOpenBadgeId': 'https://api.badgr.io/public/issuers/2Nb32h9pSuqEH9io4l3Ghw', 'name': 'Data Analyst', 'image': 'https://api.badgr.io/public/badges/OmLW3w_WQTiL7lFZk5eMhg/image', 'description': 'Conocimientos de análisis de datos. Exploratorio de datos, visualización y preparación de datos para algoritmos de Machine Learning.', 'achievementType': None, 'criteriaUrl': None, 'criteriaNarrative': 'Lo asigna el profesor cuando se obtienen los badges de exploratorio y preparación de datos.', 'alignments': [], 'tags': [], 'expires': {'amount': None, 'duration': None}, 'extensions': {}}\n",
      "\n",
      "\n",
      "\n",
      "{'entityType': 'BadgeClass', 'entityId': 'ypYyNf51QuiZfZjVXC5ndw', 'openBadgeId': 'https://api.badgr.io/public/badges/ypYyNf51QuiZfZjVXC5ndw', 'createdAt': '2019-11-10T22:03:36Z', 'createdBy': 'uRZhfKDITdqB4nDEhdN9LQ', 'issuer': '2Nb32h9pSuqEH9io4l3Ghw', 'issuerOpenBadgeId': 'https://api.badgr.io/public/issuers/2Nb32h9pSuqEH9io4l3Ghw', 'name': 'Exploratory Data Analysis (EDA)', 'image': 'https://api.badgr.io/public/badges/ypYyNf51QuiZfZjVXC5ndw/image', 'description': 'Análisis exploratorio de datos. Utilización de librerias pandas y numpy, acceso a datos y fundamentos de visualización con matplotlib y plotly', 'achievementType': None, 'criteriaUrl': None, 'criteriaNarrative': 'Lo asigna el profesor y forma parte del itinerario de Data Analyst', 'alignments': [], 'tags': [], 'expires': {'amount': None, 'duration': None}, 'extensions': {}}\n",
      "\n",
      "\n",
      "\n",
      "{'entityType': 'BadgeClass', 'entityId': 'rK0U0pV4R4KXffODuBsaow', 'openBadgeId': 'https://api.badgr.io/public/badges/rK0U0pV4R4KXffODuBsaow', 'createdAt': '2019-11-10T22:08:59Z', 'createdBy': 'uRZhfKDITdqB4nDEhdN9LQ', 'issuer': '2Nb32h9pSuqEH9io4l3Ghw', 'issuerOpenBadgeId': 'https://api.badgr.io/public/issuers/2Nb32h9pSuqEH9io4l3Ghw', 'name': 'Data Wrangling', 'image': 'https://api.badgr.io/public/badges/rK0U0pV4R4KXffODuBsaow/image', 'description': 'Preparación de datos para los algoritmos de Machine Learning. Feature Engineering de variables numéricas, categóricas, de texto y series temporales.', 'achievementType': None, 'criteriaUrl': None, 'criteriaNarrative': 'Se asigna por parte del profesor, y forma parte del itinerario de Data Analyst.', 'alignments': [], 'tags': [], 'expires': {'amount': None, 'duration': None}, 'extensions': {}}\n",
      "\n",
      "\n",
      "\n",
      "{'entityType': 'BadgeClass', 'entityId': '1-yoM09XQDaVg-p2PEEfMg', 'openBadgeId': 'https://api.badgr.io/public/badges/1-yoM09XQDaVg-p2PEEfMg', 'createdAt': '2019-11-10T22:11:48Z', 'createdBy': 'uRZhfKDITdqB4nDEhdN9LQ', 'issuer': '2Nb32h9pSuqEH9io4l3Ghw', 'issuerOpenBadgeId': 'https://api.badgr.io/public/issuers/2Nb32h9pSuqEH9io4l3Ghw', 'name': 'Data Visualization', 'image': 'https://api.badgr.io/public/badges/1-yoM09XQDaVg-p2PEEfMg/image', 'description': 'Visualización de datos para análisis, exploración y extracción de insights con herramientas como matplotlib, seaborn, etc.', 'achievementType': None, 'criteriaUrl': None, 'criteriaNarrative': 'Se asigna por el profesor, y forma parte del itinerario de data analyst.', 'alignments': [], 'tags': [], 'expires': {'amount': None, 'duration': None}, 'extensions': {}}\n",
      "\n",
      "\n",
      "\n",
      "{'entityType': 'BadgeClass', 'entityId': 'HrOLhLe2TIyPg42ImeLmaQ', 'openBadgeId': 'https://api.badgr.io/public/badges/HrOLhLe2TIyPg42ImeLmaQ', 'createdAt': '2020-03-13T11:53:58Z', 'createdBy': 'NEiTrUHPTm2pm4B9ngWwqQ', 'issuer': '2Nb32h9pSuqEH9io4l3Ghw', 'issuerOpenBadgeId': 'https://api.badgr.io/public/issuers/2Nb32h9pSuqEH9io4l3Ghw', 'name': 'I am Data Scientist', 'image': 'https://api.badgr.io/public/badges/HrOLhLe2TIyPg42ImeLmaQ/image', 'description': 'El alumno ha completado el Bootcamp, y ha adquirido conocimientos de programación, resolución de problemas, y algoritmos de Machine Learning y Deep Learning.', 'achievementType': None, 'criteriaUrl': None, 'criteriaNarrative': 'Assign', 'alignments': [], 'tags': [], 'expires': {'amount': None, 'duration': None}, 'extensions': {}}\n",
      "\n",
      "\n",
      "\n",
      "{'entityType': 'BadgeClass', 'entityId': 'TABUSYiIS2yN8paa_Z8hzg', 'openBadgeId': 'https://api.badgr.io/public/badges/TABUSYiIS2yN8paa_Z8hzg', 'createdAt': '2021-07-07T15:44:52Z', 'createdBy': 'wuT8quqFRIqTvvxfks2klA', 'issuer': '2Nb32h9pSuqEH9io4l3Ghw', 'issuerOpenBadgeId': 'https://api.badgr.io/public/issuers/2Nb32h9pSuqEH9io4l3Ghw', 'name': 'Time Series Analysis', 'image': 'https://api.badgr.io/public/badges/TABUSYiIS2yN8paa_Z8hzg/image', 'description': 'Fundamentos estadísticos y herramientas para analizar conjuntos de datos con series temporales. Modelos AR, MA, ARMA, SARIMAX… y las posibilidades de tratar estos datos tan peculiares con aprendizaje automático, como el análisis de detección de anomalías o la predicción mediante redes neuronales recurrentes.', 'achievementType': None, 'criteriaUrl': None, 'criteriaNarrative': 'Asignada por el profesor', 'alignments': [], 'tags': [], 'expires': {'amount': None, 'duration': None}, 'extensions': {}}\n",
      "\n",
      "\n",
      "\n",
      "{'entityType': 'BadgeClass', 'entityId': 'XNIE10UwRWuIGWj89C2TGg', 'openBadgeId': 'https://api.badgr.io/public/badges/XNIE10UwRWuIGWj89C2TGg', 'createdAt': '2021-07-07T15:45:29Z', 'createdBy': 'wuT8quqFRIqTvvxfks2klA', 'issuer': '2Nb32h9pSuqEH9io4l3Ghw', 'issuerOpenBadgeId': 'https://api.badgr.io/public/issuers/2Nb32h9pSuqEH9io4l3Ghw', 'name': 'TensorFlow & Keras', 'image': 'https://api.badgr.io/public/badges/XNIE10UwRWuIGWj89C2TGg/image', 'description': 'Fundamentos básicos del uso de las bibliotecas de TensorFlow y Keras para la creación, entrenamiento y manipulación de redes neuronales.', 'achievementType': None, 'criteriaUrl': None, 'criteriaNarrative': 'Asignada por el porfesor', 'alignments': [], 'tags': [], 'expires': {'amount': None, 'duration': None}, 'extensions': {}}\n",
      "\n",
      "\n",
      "\n",
      "{'entityType': 'BadgeClass', 'entityId': 'YScnCqg8Rc-gESOJt9RhVw', 'openBadgeId': 'https://api.badgr.io/public/badges/YScnCqg8Rc-gESOJt9RhVw', 'createdAt': '2021-07-07T15:45:57Z', 'createdBy': 'wuT8quqFRIqTvvxfks2klA', 'issuer': '2Nb32h9pSuqEH9io4l3Ghw', 'issuerOpenBadgeId': 'https://api.badgr.io/public/issuers/2Nb32h9pSuqEH9io4l3Ghw', 'name': 'NLP', 'image': 'https://api.badgr.io/public/badges/YScnCqg8Rc-gESOJt9RhVw/image', 'description': 'Herramientas asociadas al tratamiento de texto básico, como Regex, y tratamiento especializado con técnicas de aprendizaje automático con bibliotecas como Spacy o NLTK. Fundamentos básicos de herramientas basadas en redes neuronales actuales como Transformers y mecanismos Attention.', 'achievementType': None, 'criteriaUrl': None, 'criteriaNarrative': 'Asignada por el profesor', 'alignments': [], 'tags': [], 'expires': {'amount': None, 'duration': None}, 'extensions': {}}\n",
      "\n",
      "\n",
      "\n",
      "{'entityType': 'BadgeClass', 'entityId': 'FMa02YKkTDC_qh97pvI3Tg', 'openBadgeId': 'https://api.badgr.io/public/badges/FMa02YKkTDC_qh97pvI3Tg', 'createdAt': '2021-07-07T15:46:31Z', 'createdBy': 'wuT8quqFRIqTvvxfks2klA', 'issuer': '2Nb32h9pSuqEH9io4l3Ghw', 'issuerOpenBadgeId': 'https://api.badgr.io/public/issuers/2Nb32h9pSuqEH9io4l3Ghw', 'name': 'MLOps', 'image': 'https://api.badgr.io/public/badges/FMa02YKkTDC_qh97pvI3Tg/image', 'description': 'MLOps o ML Ops es un conjunto de prácticas que tiene como objetivo implementar y mantener modelos de aprendizaje automático en producción de manera confiable y eficiente.', 'achievementType': None, 'criteriaUrl': None, 'criteriaNarrative': 'Asignada por el profesor', 'alignments': [], 'tags': [], 'expires': {'amount': None, 'duration': None}, 'extensions': {}}\n",
      "\n",
      "\n",
      "\n",
      "{'entityType': 'BadgeClass', 'entityId': 'iYNksu02QIS4S_F9nSBLeA', 'openBadgeId': 'https://api.badgr.io/public/badges/iYNksu02QIS4S_F9nSBLeA', 'createdAt': '2022-03-28T15:01:14Z', 'createdBy': 'wuT8quqFRIqTvvxfks2klA', 'issuer': '2Nb32h9pSuqEH9io4l3Ghw', 'issuerOpenBadgeId': 'https://api.badgr.io/public/issuers/2Nb32h9pSuqEH9io4l3Ghw', 'name': 'Tableau', 'image': 'https://api.badgr.io/public/badges/iYNksu02QIS4S_F9nSBLeA/image', 'description': 'Tableau', 'achievementType': None, 'criteriaUrl': None, 'criteriaNarrative': 'Lo asigna el profesor', 'alignments': [], 'tags': [], 'expires': {'amount': None, 'duration': None}, 'extensions': {}}\n",
      "\n",
      "\n",
      "\n",
      "{'entityType': 'BadgeClass', 'entityId': 'iXCllrGZR729fwmofyxluQ', 'openBadgeId': 'https://api.badgr.io/public/badges/iXCllrGZR729fwmofyxluQ', 'createdAt': '2022-03-28T15:01:42Z', 'createdBy': 'wuT8quqFRIqTvvxfks2klA', 'issuer': '2Nb32h9pSuqEH9io4l3Ghw', 'issuerOpenBadgeId': 'https://api.badgr.io/public/issuers/2Nb32h9pSuqEH9io4l3Ghw', 'name': 'Agile', 'image': 'https://api.badgr.io/public/badges/iXCllrGZR729fwmofyxluQ/image', 'description': 'Agile', 'achievementType': None, 'criteriaUrl': None, 'criteriaNarrative': 'Lo asigna el profesor', 'alignments': [], 'tags': [], 'expires': {'amount': None, 'duration': None}, 'extensions': {}}\n",
      "\n",
      "\n",
      "\n",
      "{'entityType': 'BadgeClass', 'entityId': 'f4Btt2lvRhaUVNBWg8I4mw', 'openBadgeId': 'https://api.badgr.io/public/badges/f4Btt2lvRhaUVNBWg8I4mw', 'createdAt': '2022-03-28T15:02:27Z', 'createdBy': 'wuT8quqFRIqTvvxfks2klA', 'issuer': '2Nb32h9pSuqEH9io4l3Ghw', 'issuerOpenBadgeId': 'https://api.badgr.io/public/issuers/2Nb32h9pSuqEH9io4l3Ghw', 'name': 'SQL', 'image': 'https://api.badgr.io/public/badges/f4Btt2lvRhaUVNBWg8I4mw/image', 'description': 'SQL', 'achievementType': None, 'criteriaUrl': None, 'criteriaNarrative': 'Lo asigna el profesor', 'alignments': [], 'tags': [], 'expires': {'amount': None, 'duration': None}, 'extensions': {}}\n",
      "\n",
      "\n",
      "\n",
      "{'entityType': 'BadgeClass', 'entityId': 'lFKaIC0eSf2l47_7Q8RGvA', 'openBadgeId': 'https://api.badgr.io/public/badges/lFKaIC0eSf2l47_7Q8RGvA', 'createdAt': '2022-06-29T11:38:23Z', 'createdBy': 'wuT8quqFRIqTvvxfks2klA', 'issuer': '2Nb32h9pSuqEH9io4l3Ghw', 'issuerOpenBadgeId': 'https://api.badgr.io/public/issuers/2Nb32h9pSuqEH9io4l3Ghw', 'name': 'Object Oriented Programming', 'image': 'https://api.badgr.io/public/badges/lFKaIC0eSf2l47_7Q8RGvA/image', 'description': 'Object Oriented Programming', 'achievementType': None, 'criteriaUrl': None, 'criteriaNarrative': 'Asignada por el profesor', 'alignments': [], 'tags': [], 'expires': {'amount': None, 'duration': None}, 'extensions': {}}\n",
      "\n",
      "\n",
      "\n"
     ]
    }
   ],
   "source": [
    "entity_id = '2Nb32h9pSuqEH9io4l3Ghw'\n",
    "url = 'https://badgr.com'\n",
    "ep = f'/v2/badgeclasses'\n",
    "headers = {}\n",
    "headers[\"Authorization\"] = f\"Bearer {token}\"\n",
    "req = requests.get(url+ep, headers=headers)\n",
    "\n",
    "print(req.status_code)\n",
    "badges = req.json()['result']\n",
    "\n",
    "for res in badges:\n",
    "    print(res)\n",
    "    print('\\n\\n')"
   ]
  },
  {
   "cell_type": "code",
   "execution_count": 89,
   "metadata": {},
   "outputs": [],
   "source": [
    "python_p = {'entityType': 'BadgeClass', 'entityId': 'KjztgMFJQxubPvPmIsRdsQ', \n",
    "            'openBadgeId': 'https://api.badgr.io/public/badges/KjztgMFJQxubPvPmIsRdsQ', \n",
    "            'createdAt': '2019-11-10T21:58:50Z', 'createdBy': 'uRZhfKDITdqB4nDEhdN9LQ', \n",
    "            'issuer': '2Nb32h9pSuqEH9io4l3Ghw', \n",
    "            'issuerOpenBadgeId': 'https://api.badgr.io/public/issuers/2Nb32h9pSuqEH9io4l3Ghw', \n",
    "            'name': 'Python Fundamentals', 'image': 'https://api.badgr.io/public/badges/KjztgMFJQxubPvPmIsRdsQ/image', \n",
    "            'description': 'Entregado a Alberto Becerra por su gran desempeño. Fundamentos de Python para Data Science. El alumno ha demostrado conocimientos de programación python y acceso a datos para abordar problemas de Data Science', \n",
    "            'achievementType': None, 'criteriaUrl': None, 'criteriaNarrative': 'Lo asigna el profesor', 'alignments': [], 'tags': [], 'expires': {'amount': None, 'duration': None}, 'extensions': {}}\n",
    "\n",
    "\n",
    "ssign_json = {\n",
    "                \"@context\": \"https://w3id.org/openbadges/v2\",\n",
    "                \"type\": \"Assertion\",\n",
    "                \"id\": \"https://api.badgr.io/public/badges/KjztgMFJQxubPvPmIsRdsQ\",\n",
    "                \"recipient\": {\n",
    "                    \"type\": \"email\",\n",
    "                    \"identity\": \"alberto.becerra@thebridgeschool.es\"\n",
    "                },\n",
    "                # \"image\": \"https://example.org/beths-robot-badge.png\",\n",
    "                # \"evidence\": \"https://example.org/beths-robot-work.html\",\n",
    "                \"issuedOn\": \"2016-12-31T23:59:59Z\",\n",
    "                \"expires\": \"2030-06-30T23:59:59Z\",\n",
    "                \"badge\": \"https://api.badgr.io/public/badges/KjztgMFJQxubPvPmIsRdsQ\",\n",
    "                \"verification\": {\n",
    "                    \"type\": \"hosted\"\n",
    "                },\n",
    "                \"notify\":True,\n",
    "                \"narrative\":\"Entregado a Alberto Becerra por su buen desempeño\"\n",
    "                }\n",
    "\n"
   ]
  },
  {
   "cell_type": "code",
   "execution_count": 90,
   "metadata": {},
   "outputs": [
    {
     "name": "stdout",
     "output_type": "stream",
     "text": [
      "201\n"
     ]
    }
   ],
   "source": [
    "latest_badgeclass_entity_id = 'KjztgMFJQxubPvPmIsRdsQ'\n",
    "url = 'https://badgr.com'\n",
    "ep = f'/v2/badgeclasses/{latest_badgeclass_entity_id}/assertions'\n",
    "headers = {}\n",
    "headers[\"Authorization\"] = f\"Bearer {token}\"\n",
    "req = requests.post(url+ep, headers=headers, json=ssign_json)\n",
    "\n",
    "print(req.status_code)\n",
    "# print(req.json())\n",
    "# issuers = req.json()['result'][0]\n",
    "# for res in issuers.items():\n",
    "#     print(res)"
   ]
  },
  {
   "cell_type": "code",
   "execution_count": null,
   "metadata": {},
   "outputs": [],
   "source": []
  },
  {
   "cell_type": "code",
   "execution_count": 2,
   "metadata": {},
   "outputs": [
    {
     "name": "stdout",
     "output_type": "stream",
     "text": [
      "{'access_token': 'RR7NcUryHwwMlkzHZagv5CNNPA3sjL', 'expires_in': 86400, 'token_type': 'Bearer', 'scope': 'rw:profile rw:issuer rw:backpack', 'refresh_token': 'xC0bqC7xjolCfgUG4lETy7VDcJTBkD'}\n"
     ]
    }
   ],
   "source": [
    "pwrd = getpass('Introduce contrasena Badgr: ')\n",
    "\n",
    "auth_params = {'username':USERNAME, 'password':pwrd}\n",
    "auth_url = 'https://api.badgr.io/o/token'\n",
    "\n",
    "token_raw = requests.post(auth_url, data=auth_params).content\n",
    "token = json.loads(token_raw)\n",
    "print(token)\n",
    "client = BadgrLite(token_filename='token.json')"
   ]
  },
  {
   "cell_type": "code",
   "execution_count": 4,
   "metadata": {},
   "outputs": [
    {
     "name": "stdout",
     "output_type": "stream",
     "text": [
      "c:\\Users\\alber\\Documents\\GitHub\\Personal\\assign-badgr\n",
      "c0qFwLCiQSKqdB4wH4RO1Q\thttps://badgr.io/public/assertions/c0qFwLCiQSKqdB4wH4RO1Q\tDeep Learning\n",
      "RHcPJ9WdTCu4sxfe3nBOrQ\thttps://badgr.io/public/assertions/RHcPJ9WdTCu4sxfe3nBOrQ\tMachine Learning\n",
      "UWJ-e6k0RJOEsTDQATreHA\thttps://badgr.io/public/assertions/UWJ-e6k0RJOEsTDQATreHA\tMachine Learning Engineer\n",
      "kB0AeUDQTpaVOEduEJpuyQ\thttps://badgr.io/public/assertions/kB0AeUDQTpaVOEduEJpuyQ\tMaths for Data Science\n",
      "KjztgMFJQxubPvPmIsRdsQ\thttps://badgr.io/public/assertions/KjztgMFJQxubPvPmIsRdsQ\tPython Fundamentals\n",
      "OmLW3w_WQTiL7lFZk5eMhg\thttps://badgr.io/public/assertions/OmLW3w_WQTiL7lFZk5eMhg\tData Analyst\n",
      "ypYyNf51QuiZfZjVXC5ndw\thttps://badgr.io/public/assertions/ypYyNf51QuiZfZjVXC5ndw\tExploratory Data Analysis (EDA)\n",
      "rK0U0pV4R4KXffODuBsaow\thttps://badgr.io/public/assertions/rK0U0pV4R4KXffODuBsaow\tData Wrangling\n",
      "1-yoM09XQDaVg-p2PEEfMg\thttps://badgr.io/public/assertions/1-yoM09XQDaVg-p2PEEfMg\tData Visualization\n",
      "HrOLhLe2TIyPg42ImeLmaQ\thttps://badgr.io/public/assertions/HrOLhLe2TIyPg42ImeLmaQ\tI am Data Scientist\n",
      "TABUSYiIS2yN8paa_Z8hzg\thttps://badgr.io/public/assertions/TABUSYiIS2yN8paa_Z8hzg\tTime Series Analysis\n",
      "XNIE10UwRWuIGWj89C2TGg\thttps://badgr.io/public/assertions/XNIE10UwRWuIGWj89C2TGg\tTensorFlow & Keras\n",
      "YScnCqg8Rc-gESOJt9RhVw\thttps://badgr.io/public/assertions/YScnCqg8Rc-gESOJt9RhVw\tNLP\n",
      "FMa02YKkTDC_qh97pvI3Tg\thttps://badgr.io/public/assertions/FMa02YKkTDC_qh97pvI3Tg\tMLOps\n",
      "iYNksu02QIS4S_F9nSBLeA\thttps://badgr.io/public/assertions/iYNksu02QIS4S_F9nSBLeA\tTableau\n",
      "iXCllrGZR729fwmofyxluQ\thttps://badgr.io/public/assertions/iXCllrGZR729fwmofyxluQ\tAgile\n",
      "f4Btt2lvRhaUVNBWg8I4mw\thttps://badgr.io/public/assertions/f4Btt2lvRhaUVNBWg8I4mw\tSQL\n",
      "\n",
      "\n",
      "\n",
      "SELECTED BADGE\n",
      "kB0AeUDQTpaVOEduEJpuyQ\thttps://badgr.io/public/assertions/kB0AeUDQTpaVOEduEJpuyQ\tMaths for Data Science\n"
     ]
    }
   ],
   "source": [
    "import os\n",
    "print(os.getcwd())\n",
    "\n",
    "cb = client.badges\n",
    "\n",
    "for badge in client.badges:\n",
    "    print(badge)\n",
    "\n",
    "name = 'Math'\n",
    "badge = [x for x in cb if name.lower() in x.name.lower()][0]\n",
    "\n",
    "print(\"\\n\\n\")\n",
    "print(\"SELECTED BADGE\")\n",
    "print(badge)"
   ]
  },
  {
   "cell_type": "code",
   "execution_count": 5,
   "metadata": {},
   "outputs": [
    {
     "data": {
      "text/plain": [
       "['achievement_type',\n",
       " 'alignments',\n",
       " 'created_at',\n",
       " 'created_by',\n",
       " 'criteria_narrative',\n",
       " 'criteria_url',\n",
       " 'description',\n",
       " 'entity_id',\n",
       " 'entity_type',\n",
       " 'expires',\n",
       " 'extensions',\n",
       " 'image',\n",
       " 'issuer',\n",
       " 'issuer_open_badge_id',\n",
       " 'name',\n",
       " 'open_badge_id',\n",
       " 'tags']"
      ]
     },
     "execution_count": 5,
     "metadata": {},
     "output_type": "execute_result"
    }
   ],
   "source": [
    "import re\n",
    "norm_att = list(filter(lambda x: (not re.match('_', x)) \n",
    "                    & (x not in ['REQUIRED_ATTRS', 'REQUIRED_JSON']), \n",
    "                dir(badge)))\n",
    "norm_att"
   ]
  },
  {
   "cell_type": "code",
   "execution_count": 9,
   "metadata": {},
   "outputs": [
    {
     "data": {
      "text/plain": [
       "{'amount': None, 'duration': None}"
      ]
     },
     "execution_count": 9,
     "metadata": {},
     "output_type": "execute_result"
    }
   ],
   "source": [
    "d_att = {}\n",
    "\n",
    "for att in norm_att:\n",
    "    d_att[att] = getattr(badge,att)\n",
    "    \n",
    "from datetime import datetime\n",
    "d_att['created_at'] = datetime.strftime(d_att['created_at'], '%Y-%m-%dT%H:%M:%S')\n",
    "d_att['criteria_narrative'] = 'Lo asigna el profesor y forma parte del itinerario de Data Analyst'\n",
    "d_att.pop('expires')"
   ]
  },
  {
   "cell_type": "code",
   "execution_count": 6,
   "metadata": {},
   "outputs": [
    {
     "data": {
      "text/plain": [
       "{'achievement_type': None,\n",
       " 'alignments': [],\n",
       " 'created_at': '2022-03-28T15:02:27',\n",
       " 'created_by': 'wuT8quqFRIqTvvxfks2klA',\n",
       " 'criteria_narrative': 'Lo asigna el profesor y forma parte del itinerario de Data Analyst',\n",
       " 'criteria_url': None,\n",
       " 'description': 'SQL',\n",
       " 'entity_id': 'f4Btt2lvRhaUVNBWg8I4mw',\n",
       " 'entity_type': 'BadgeClass',\n",
       " 'extensions': {},\n",
       " 'image': 'https://api.badgr.io/public/badges/f4Btt2lvRhaUVNBWg8I4mw/image',\n",
       " 'issuer': '2Nb32h9pSuqEH9io4l3Ghw',\n",
       " 'issuer_open_badge_id': 'https://api.badgr.io/public/issuers/2Nb32h9pSuqEH9io4l3Ghw',\n",
       " 'name': 'SQL',\n",
       " 'open_badge_id': 'https://api.badgr.io/public/badges/f4Btt2lvRhaUVNBWg8I4mw',\n",
       " 'tags': []}"
      ]
     },
     "execution_count": 6,
     "metadata": {},
     "output_type": "execute_result"
    }
   ],
   "source": [
    "d_att"
   ]
  },
  {
   "cell_type": "code",
   "execution_count": 10,
   "metadata": {},
   "outputs": [],
   "source": [
    "d_att['recipient'] = {\"identity\": \"franx.guerra@gmail.com\"}\n",
    "d_att[\"notify\"] = True"
   ]
  },
  {
   "cell_type": "code",
   "execution_count": 13,
   "metadata": {},
   "outputs": [],
   "source": [
    "result = client.award_badge(badge.entity_id, badge_data=d_att)"
   ]
  },
  {
   "cell_type": "code",
   "execution_count": 48,
   "metadata": {},
   "outputs": [
    {
     "data": {
      "text/plain": [
       "['REQUIRED_ATTRS',\n",
       " 'REQUIRED_JSON',\n",
       " '__class__',\n",
       " '__delattr__',\n",
       " '__dict__',\n",
       " '__dir__',\n",
       " '__doc__',\n",
       " '__eq__',\n",
       " '__format__',\n",
       " '__ge__',\n",
       " '__getattribute__',\n",
       " '__gt__',\n",
       " '__hash__',\n",
       " '__init__',\n",
       " '__init_subclass__',\n",
       " '__le__',\n",
       " '__lt__',\n",
       " '__module__',\n",
       " '__ne__',\n",
       " '__new__',\n",
       " '__reduce__',\n",
       " '__reduce_ex__',\n",
       " '__repr__',\n",
       " '__setattr__',\n",
       " '__sizeof__',\n",
       " '__str__',\n",
       " '__subclasshook__',\n",
       " '__weakref__',\n",
       " '_attrs',\n",
       " '_check_missing_but_required',\n",
       " 'acceptance',\n",
       " 'badgeclass',\n",
       " 'badgeclass_open_badge_id',\n",
       " 'created_at',\n",
       " 'created_by',\n",
       " 'entity_id',\n",
       " 'entity_type',\n",
       " 'evidence',\n",
       " 'expires',\n",
       " 'extensions',\n",
       " 'image',\n",
       " 'issued_on',\n",
       " 'issuer',\n",
       " 'issuer_open_badge_id',\n",
       " 'narrative',\n",
       " 'open_badge_id',\n",
       " 'recipient',\n",
       " 'revocation_reason',\n",
       " 'revoked']"
      ]
     },
     "execution_count": 48,
     "metadata": {},
     "output_type": "execute_result"
    }
   ],
   "source": [
    "dir(result)"
   ]
  }
 ],
 "metadata": {
  "interpreter": {
   "hash": "b8ee907ad2201c6d9588d3f44c3076f7bb061a669037d938a152617689572a16"
  },
  "kernelspec": {
   "display_name": "Python 3.7.4 64-bit",
   "language": "python",
   "name": "python3"
  },
  "language_info": {
   "codemirror_mode": {
    "name": "ipython",
    "version": 3
   },
   "file_extension": ".py",
   "mimetype": "text/x-python",
   "name": "python",
   "nbconvert_exporter": "python",
   "pygments_lexer": "ipython3",
   "version": "3.7.4"
  },
  "orig_nbformat": 4
 },
 "nbformat": 4,
 "nbformat_minor": 2
}
