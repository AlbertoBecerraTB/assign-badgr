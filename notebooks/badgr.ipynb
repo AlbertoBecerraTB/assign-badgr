{
 "cells": [
  {
   "cell_type": "code",
   "execution_count": 1,
   "metadata": {},
   "outputs": [],
   "source": [
    "from getpass import getpass\n",
    "import requests\n",
    "import json\n",
    "from badgr_lite.models import BadgrLite\n",
    "\n",
    "from config import USERNAME"
   ]
  },
  {
   "cell_type": "code",
   "execution_count": 2,
   "metadata": {},
   "outputs": [
    {
     "name": "stdout",
     "output_type": "stream",
     "text": [
      "{'access_token': 'RR7NcUryHwwMlkzHZagv5CNNPA3sjL', 'expires_in': 86400, 'token_type': 'Bearer', 'scope': 'rw:profile rw:issuer rw:backpack', 'refresh_token': 'xC0bqC7xjolCfgUG4lETy7VDcJTBkD'}\n"
     ]
    }
   ],
   "source": [
    "pwrd = getpass('Introduce contrasena Badgr: ')\n",
    "\n",
    "auth_params = {'username':USERNAME, 'password':pwrd}\n",
    "auth_url = 'https://api.badgr.io/o/token'\n",
    "\n",
    "token_raw = requests.post(auth_url, data=auth_params).content\n",
    "token = json.loads(token_raw)\n",
    "print(token)\n",
    "client = BadgrLite(token_filename='token.json')"
   ]
  },
  {
   "cell_type": "code",
   "execution_count": 4,
   "metadata": {},
   "outputs": [
    {
     "name": "stdout",
     "output_type": "stream",
     "text": [
      "c:\\Users\\alber\\Documents\\GitHub\\Personal\\assign-badgr\n",
      "c0qFwLCiQSKqdB4wH4RO1Q\thttps://badgr.io/public/assertions/c0qFwLCiQSKqdB4wH4RO1Q\tDeep Learning\n",
      "RHcPJ9WdTCu4sxfe3nBOrQ\thttps://badgr.io/public/assertions/RHcPJ9WdTCu4sxfe3nBOrQ\tMachine Learning\n",
      "UWJ-e6k0RJOEsTDQATreHA\thttps://badgr.io/public/assertions/UWJ-e6k0RJOEsTDQATreHA\tMachine Learning Engineer\n",
      "kB0AeUDQTpaVOEduEJpuyQ\thttps://badgr.io/public/assertions/kB0AeUDQTpaVOEduEJpuyQ\tMaths for Data Science\n",
      "KjztgMFJQxubPvPmIsRdsQ\thttps://badgr.io/public/assertions/KjztgMFJQxubPvPmIsRdsQ\tPython Fundamentals\n",
      "OmLW3w_WQTiL7lFZk5eMhg\thttps://badgr.io/public/assertions/OmLW3w_WQTiL7lFZk5eMhg\tData Analyst\n",
      "ypYyNf51QuiZfZjVXC5ndw\thttps://badgr.io/public/assertions/ypYyNf51QuiZfZjVXC5ndw\tExploratory Data Analysis (EDA)\n",
      "rK0U0pV4R4KXffODuBsaow\thttps://badgr.io/public/assertions/rK0U0pV4R4KXffODuBsaow\tData Wrangling\n",
      "1-yoM09XQDaVg-p2PEEfMg\thttps://badgr.io/public/assertions/1-yoM09XQDaVg-p2PEEfMg\tData Visualization\n",
      "HrOLhLe2TIyPg42ImeLmaQ\thttps://badgr.io/public/assertions/HrOLhLe2TIyPg42ImeLmaQ\tI am Data Scientist\n",
      "TABUSYiIS2yN8paa_Z8hzg\thttps://badgr.io/public/assertions/TABUSYiIS2yN8paa_Z8hzg\tTime Series Analysis\n",
      "XNIE10UwRWuIGWj89C2TGg\thttps://badgr.io/public/assertions/XNIE10UwRWuIGWj89C2TGg\tTensorFlow & Keras\n",
      "YScnCqg8Rc-gESOJt9RhVw\thttps://badgr.io/public/assertions/YScnCqg8Rc-gESOJt9RhVw\tNLP\n",
      "FMa02YKkTDC_qh97pvI3Tg\thttps://badgr.io/public/assertions/FMa02YKkTDC_qh97pvI3Tg\tMLOps\n",
      "iYNksu02QIS4S_F9nSBLeA\thttps://badgr.io/public/assertions/iYNksu02QIS4S_F9nSBLeA\tTableau\n",
      "iXCllrGZR729fwmofyxluQ\thttps://badgr.io/public/assertions/iXCllrGZR729fwmofyxluQ\tAgile\n",
      "f4Btt2lvRhaUVNBWg8I4mw\thttps://badgr.io/public/assertions/f4Btt2lvRhaUVNBWg8I4mw\tSQL\n",
      "\n",
      "\n",
      "\n",
      "SELECTED BADGE\n",
      "kB0AeUDQTpaVOEduEJpuyQ\thttps://badgr.io/public/assertions/kB0AeUDQTpaVOEduEJpuyQ\tMaths for Data Science\n"
     ]
    }
   ],
   "source": [
    "import os\n",
    "print(os.getcwd())\n",
    "\n",
    "cb = client.badges\n",
    "\n",
    "for badge in client.badges:\n",
    "    print(badge)\n",
    "\n",
    "name = 'Math'\n",
    "badge = [x for x in cb if name.lower() in x.name.lower()][0]\n",
    "\n",
    "print(\"\\n\\n\")\n",
    "print(\"SELECTED BADGE\")\n",
    "print(badge)"
   ]
  },
  {
   "cell_type": "code",
   "execution_count": 5,
   "metadata": {},
   "outputs": [
    {
     "data": {
      "text/plain": [
       "['achievement_type',\n",
       " 'alignments',\n",
       " 'created_at',\n",
       " 'created_by',\n",
       " 'criteria_narrative',\n",
       " 'criteria_url',\n",
       " 'description',\n",
       " 'entity_id',\n",
       " 'entity_type',\n",
       " 'expires',\n",
       " 'extensions',\n",
       " 'image',\n",
       " 'issuer',\n",
       " 'issuer_open_badge_id',\n",
       " 'name',\n",
       " 'open_badge_id',\n",
       " 'tags']"
      ]
     },
     "execution_count": 5,
     "metadata": {},
     "output_type": "execute_result"
    }
   ],
   "source": [
    "import re\n",
    "norm_att = list(filter(lambda x: (not re.match('_', x)) \n",
    "                    & (x not in ['REQUIRED_ATTRS', 'REQUIRED_JSON']), \n",
    "                dir(badge)))\n",
    "norm_att"
   ]
  },
  {
   "cell_type": "code",
   "execution_count": 9,
   "metadata": {},
   "outputs": [
    {
     "data": {
      "text/plain": [
       "{'amount': None, 'duration': None}"
      ]
     },
     "execution_count": 9,
     "metadata": {},
     "output_type": "execute_result"
    }
   ],
   "source": [
    "d_att = {}\n",
    "\n",
    "for att in norm_att:\n",
    "    d_att[att] = getattr(badge,att)\n",
    "    \n",
    "from datetime import datetime\n",
    "d_att['created_at'] = datetime.strftime(d_att['created_at'], '%Y-%m-%dT%H:%M:%S')\n",
    "d_att['criteria_narrative'] = 'Lo asigna el profesor y forma parte del itinerario de Data Analyst'\n",
    "d_att.pop('expires')"
   ]
  },
  {
   "cell_type": "code",
   "execution_count": 6,
   "metadata": {},
   "outputs": [
    {
     "data": {
      "text/plain": [
       "{'achievement_type': None,\n",
       " 'alignments': [],\n",
       " 'created_at': '2022-03-28T15:02:27',\n",
       " 'created_by': 'wuT8quqFRIqTvvxfks2klA',\n",
       " 'criteria_narrative': 'Lo asigna el profesor y forma parte del itinerario de Data Analyst',\n",
       " 'criteria_url': None,\n",
       " 'description': 'SQL',\n",
       " 'entity_id': 'f4Btt2lvRhaUVNBWg8I4mw',\n",
       " 'entity_type': 'BadgeClass',\n",
       " 'extensions': {},\n",
       " 'image': 'https://api.badgr.io/public/badges/f4Btt2lvRhaUVNBWg8I4mw/image',\n",
       " 'issuer': '2Nb32h9pSuqEH9io4l3Ghw',\n",
       " 'issuer_open_badge_id': 'https://api.badgr.io/public/issuers/2Nb32h9pSuqEH9io4l3Ghw',\n",
       " 'name': 'SQL',\n",
       " 'open_badge_id': 'https://api.badgr.io/public/badges/f4Btt2lvRhaUVNBWg8I4mw',\n",
       " 'tags': []}"
      ]
     },
     "execution_count": 6,
     "metadata": {},
     "output_type": "execute_result"
    }
   ],
   "source": [
    "d_att"
   ]
  },
  {
   "cell_type": "code",
   "execution_count": 10,
   "metadata": {},
   "outputs": [],
   "source": [
    "d_att['recipient'] = {\"identity\": \"franx.guerra@gmail.com\"}\n",
    "d_att[\"notify\"] = True"
   ]
  },
  {
   "cell_type": "code",
   "execution_count": 13,
   "metadata": {},
   "outputs": [],
   "source": [
    "result = client.award_badge(badge.entity_id, badge_data=d_att)"
   ]
  },
  {
   "cell_type": "code",
   "execution_count": 48,
   "metadata": {},
   "outputs": [
    {
     "data": {
      "text/plain": [
       "['REQUIRED_ATTRS',\n",
       " 'REQUIRED_JSON',\n",
       " '__class__',\n",
       " '__delattr__',\n",
       " '__dict__',\n",
       " '__dir__',\n",
       " '__doc__',\n",
       " '__eq__',\n",
       " '__format__',\n",
       " '__ge__',\n",
       " '__getattribute__',\n",
       " '__gt__',\n",
       " '__hash__',\n",
       " '__init__',\n",
       " '__init_subclass__',\n",
       " '__le__',\n",
       " '__lt__',\n",
       " '__module__',\n",
       " '__ne__',\n",
       " '__new__',\n",
       " '__reduce__',\n",
       " '__reduce_ex__',\n",
       " '__repr__',\n",
       " '__setattr__',\n",
       " '__sizeof__',\n",
       " '__str__',\n",
       " '__subclasshook__',\n",
       " '__weakref__',\n",
       " '_attrs',\n",
       " '_check_missing_but_required',\n",
       " 'acceptance',\n",
       " 'badgeclass',\n",
       " 'badgeclass_open_badge_id',\n",
       " 'created_at',\n",
       " 'created_by',\n",
       " 'entity_id',\n",
       " 'entity_type',\n",
       " 'evidence',\n",
       " 'expires',\n",
       " 'extensions',\n",
       " 'image',\n",
       " 'issued_on',\n",
       " 'issuer',\n",
       " 'issuer_open_badge_id',\n",
       " 'narrative',\n",
       " 'open_badge_id',\n",
       " 'recipient',\n",
       " 'revocation_reason',\n",
       " 'revoked']"
      ]
     },
     "execution_count": 48,
     "metadata": {},
     "output_type": "execute_result"
    }
   ],
   "source": [
    "dir(result)"
   ]
  }
 ],
 "metadata": {
  "interpreter": {
   "hash": "b8ee907ad2201c6d9588d3f44c3076f7bb061a669037d938a152617689572a16"
  },
  "kernelspec": {
   "display_name": "Python 3.7.4 64-bit",
   "language": "python",
   "name": "python3"
  },
  "language_info": {
   "codemirror_mode": {
    "name": "ipython",
    "version": 3
   },
   "file_extension": ".py",
   "mimetype": "text/x-python",
   "name": "python",
   "nbconvert_exporter": "python",
   "pygments_lexer": "ipython3",
   "version": "3.7.4"
  },
  "orig_nbformat": 4
 },
 "nbformat": 4,
 "nbformat_minor": 2
}
